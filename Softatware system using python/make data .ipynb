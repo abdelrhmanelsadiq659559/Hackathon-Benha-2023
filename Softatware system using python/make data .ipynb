{
 "cells": [
  {
   "cell_type": "code",
   "execution_count": 1,
   "id": "fe0566d3",
   "metadata": {},
   "outputs": [],
   "source": [
    "import pandas as pd \n",
    "import numpy as np\n"
   ]
  },
  {
   "cell_type": "code",
   "execution_count": 2,
   "id": "4212d841",
   "metadata": {},
   "outputs": [],
   "source": [
    "df=pd.read_excel(\"Book1.xlsx\")"
   ]
  },
  {
   "cell_type": "code",
   "execution_count": 3,
   "id": "e279ce36",
   "metadata": {},
   "outputs": [],
   "source": [
    "df=df.drop('Card ID ',axis=1)"
   ]
  },
  {
   "cell_type": "code",
   "execution_count": 4,
   "id": "57cb81ca",
   "metadata": {},
   "outputs": [],
   "source": [
    "df.columns=[\"National_ID\"]\n"
   ]
  },
  {
   "cell_type": "code",
   "execution_count": 5,
   "id": "35549f56",
   "metadata": {},
   "outputs": [],
   "source": [
    "import string \n",
    "import random\n",
    "def id_generator(size=12, chars=string.ascii_uppercase + string.digits):\n",
    "      return ''.join(random.choice(chars) for _ in range(size))\n",
    "    "
   ]
  },
  {
   "cell_type": "code",
   "execution_count": 6,
   "id": "1ab02343",
   "metadata": {},
   "outputs": [],
   "source": [
    "df[\"Card_ID\"]=df[\"National_ID\"].apply(lambda x : id_generator())"
   ]
  },
  {
   "cell_type": "code",
   "execution_count": 7,
   "id": "85c1b3c4",
   "metadata": {},
   "outputs": [],
   "source": [
    "def generate_names():\n",
    "  first_names=('mohammed','Ahmed ','badr',\"Elsadiq\",\"Wagdi\",\"Khaled\",\"nada\",\"\",\"nour\",\"somia\",\"ibrahim\",\"mustafa\",\"hoda\",\"eman\",\"rahma\",\"reem\",\"sara\",\"amera\",\"abdulrhman\")\n",
    "  last_names=('nader','Samir','Abdullah',\"Amir\",\"yasser\",\"Zaid\",\"Mohsen\",\"Elsadiq\",\"omar\",\"ali\",\"Farhat\",\"said\",\"saad\")\n",
    "  return random.choice(first_names)+\" \"+random.choice(last_names)\n",
    "df[\"names\"]=\"a\"\n",
    "df[\"names\"]=df[\"names\"].apply(lambda x:generate_names())\n"
   ]
  },
  {
   "cell_type": "code",
   "execution_count": 8,
   "id": "60d04d67",
   "metadata": {},
   "outputs": [],
   "source": [
    "string=\"Alexandria Aswan Asyut Beheira Beni_Suef Cairo Dakahlia Damietta Faiyum Gharbia Giza Ismailia Kafr_El_Sheikh Luxor Matruh Minya Monufia New_Valley North_Sinai Port_Said Qalyubia Qena Red_Sea Sharqia Sohag South_Sinai Suez \""
   ]
  },
  {
   "cell_type": "code",
   "execution_count": 9,
   "id": "567ce771",
   "metadata": {},
   "outputs": [
    {
     "data": {
      "text/plain": [
       "27"
      ]
     },
     "execution_count": 9,
     "metadata": {},
     "output_type": "execute_result"
    }
   ],
   "source": [
    "names_of_govs=list(string.split())\n",
    "len(names_of_govs)"
   ]
  },
  {
   "cell_type": "code",
   "execution_count": 10,
   "id": "fc322d6b",
   "metadata": {},
   "outputs": [],
   "source": [
    "def govs(names_of_govs5=names_of_govs):\n",
    "    index=random.randint(0,26)\n",
    "    return names_of_govs5[index]\n",
    "df[\"governorate\"]=df[\"National_ID\"].apply(lambda x : govs())"
   ]
  },
  {
   "cell_type": "code",
   "execution_count": 11,
   "id": "333f080c",
   "metadata": {},
   "outputs": [],
   "source": [
    "df[\"balance\"]=1\n",
    "df[\"balance\"]=df[\"balance\"].apply(lambda x : random.randint(100,500))\n",
    "df[\"paid_on_raod\"]=df[\"balance\"].apply(lambda x : random.randint(1000,50000))\n",
    "df[\"voiltaion_should_paid\"]=df[\"balance\"].apply(lambda x : random.randint(1000,5000))\n",
    "df[\"sum_voiltaion_paid\"]=df[\"balance\"].apply(lambda x : random.randint(2000,10000))\n",
    "df[\"is_paid_on_time\"]=df[\"balance\"].apply(lambda x :random.randint(0,1))"
   ]
  },
  {
   "cell_type": "code",
   "execution_count": 12,
   "id": "5514d893",
   "metadata": {},
   "outputs": [],
   "source": [
    "df.to_csv(\"data_hack.csv\",index=False)"
   ]
  },
  {
   "cell_type": "code",
   "execution_count": 13,
   "id": "3b311b57",
   "metadata": {},
   "outputs": [
    {
     "data": {
      "text/html": [
       "<div>\n",
       "<style scoped>\n",
       "    .dataframe tbody tr th:only-of-type {\n",
       "        vertical-align: middle;\n",
       "    }\n",
       "\n",
       "    .dataframe tbody tr th {\n",
       "        vertical-align: top;\n",
       "    }\n",
       "\n",
       "    .dataframe thead th {\n",
       "        text-align: right;\n",
       "    }\n",
       "</style>\n",
       "<table border=\"1\" class=\"dataframe\">\n",
       "  <thead>\n",
       "    <tr style=\"text-align: right;\">\n",
       "      <th></th>\n",
       "      <th>National_ID</th>\n",
       "      <th>Card_ID</th>\n",
       "      <th>names</th>\n",
       "      <th>governorate</th>\n",
       "      <th>balance</th>\n",
       "      <th>paid_on_raod</th>\n",
       "      <th>voiltaion_should_paid</th>\n",
       "      <th>sum_voiltaion_paid</th>\n",
       "      <th>is_paid_on_time</th>\n",
       "    </tr>\n",
       "  </thead>\n",
       "  <tbody>\n",
       "    <tr>\n",
       "      <th>0</th>\n",
       "      <td>73411474034088</td>\n",
       "      <td>FD0WS5E946OD</td>\n",
       "      <td>ibrahim said</td>\n",
       "      <td>Gharbia</td>\n",
       "      <td>218</td>\n",
       "      <td>24868</td>\n",
       "      <td>1904</td>\n",
       "      <td>5704</td>\n",
       "      <td>0</td>\n",
       "    </tr>\n",
       "    <tr>\n",
       "      <th>1</th>\n",
       "      <td>65052092383464</td>\n",
       "      <td>JO6FT9R5RCXH</td>\n",
       "      <td>reem Zaid</td>\n",
       "      <td>Gharbia</td>\n",
       "      <td>360</td>\n",
       "      <td>36220</td>\n",
       "      <td>1868</td>\n",
       "      <td>3062</td>\n",
       "      <td>0</td>\n",
       "    </tr>\n",
       "    <tr>\n",
       "      <th>2</th>\n",
       "      <td>72362795392934</td>\n",
       "      <td>2JGTD0TNW0P6</td>\n",
       "      <td>mohammed omar</td>\n",
       "      <td>Giza</td>\n",
       "      <td>441</td>\n",
       "      <td>11631</td>\n",
       "      <td>1849</td>\n",
       "      <td>9594</td>\n",
       "      <td>0</td>\n",
       "    </tr>\n",
       "    <tr>\n",
       "      <th>3</th>\n",
       "      <td>77302472878512</td>\n",
       "      <td>EPFE84MQVDJY</td>\n",
       "      <td>mohammed Mohsen</td>\n",
       "      <td>Cairo</td>\n",
       "      <td>379</td>\n",
       "      <td>37557</td>\n",
       "      <td>4823</td>\n",
       "      <td>9406</td>\n",
       "      <td>0</td>\n",
       "    </tr>\n",
       "    <tr>\n",
       "      <th>4</th>\n",
       "      <td>75328260960308</td>\n",
       "      <td>N9JQZ1CNC07K</td>\n",
       "      <td>Wagdi said</td>\n",
       "      <td>Dakahlia</td>\n",
       "      <td>344</td>\n",
       "      <td>16044</td>\n",
       "      <td>2318</td>\n",
       "      <td>2622</td>\n",
       "      <td>0</td>\n",
       "    </tr>\n",
       "    <tr>\n",
       "      <th>5</th>\n",
       "      <td>43832231151735</td>\n",
       "      <td>1M3B9IPM2JVR</td>\n",
       "      <td>Ahmed  Zaid</td>\n",
       "      <td>Asyut</td>\n",
       "      <td>127</td>\n",
       "      <td>6529</td>\n",
       "      <td>2288</td>\n",
       "      <td>5047</td>\n",
       "      <td>0</td>\n",
       "    </tr>\n",
       "    <tr>\n",
       "      <th>6</th>\n",
       "      <td>65988415181340</td>\n",
       "      <td>GT2OMUCKF60C</td>\n",
       "      <td>Ahmed  Elsadiq</td>\n",
       "      <td>Luxor</td>\n",
       "      <td>406</td>\n",
       "      <td>29881</td>\n",
       "      <td>1241</td>\n",
       "      <td>4006</td>\n",
       "      <td>1</td>\n",
       "    </tr>\n",
       "    <tr>\n",
       "      <th>7</th>\n",
       "      <td>48110826562482</td>\n",
       "      <td>7YZI26GCOTI2</td>\n",
       "      <td>nada saad</td>\n",
       "      <td>Qalyubia</td>\n",
       "      <td>321</td>\n",
       "      <td>35898</td>\n",
       "      <td>2389</td>\n",
       "      <td>8227</td>\n",
       "      <td>0</td>\n",
       "    </tr>\n",
       "    <tr>\n",
       "      <th>8</th>\n",
       "      <td>61062408943271</td>\n",
       "      <td>EPBVIL4GCDG6</td>\n",
       "      <td>sara Amir</td>\n",
       "      <td>Sohag</td>\n",
       "      <td>478</td>\n",
       "      <td>29211</td>\n",
       "      <td>3826</td>\n",
       "      <td>6971</td>\n",
       "      <td>0</td>\n",
       "    </tr>\n",
       "    <tr>\n",
       "      <th>9</th>\n",
       "      <td>85490943483127</td>\n",
       "      <td>9Y6Z6G20SN3E</td>\n",
       "      <td>nour omar</td>\n",
       "      <td>Cairo</td>\n",
       "      <td>224</td>\n",
       "      <td>3197</td>\n",
       "      <td>4428</td>\n",
       "      <td>6058</td>\n",
       "      <td>0</td>\n",
       "    </tr>\n",
       "  </tbody>\n",
       "</table>\n",
       "</div>"
      ],
      "text/plain": [
       "      National_ID       Card_ID            names governorate  balance  \\\n",
       "0  73411474034088  FD0WS5E946OD     ibrahim said     Gharbia      218   \n",
       "1  65052092383464  JO6FT9R5RCXH        reem Zaid     Gharbia      360   \n",
       "2  72362795392934  2JGTD0TNW0P6    mohammed omar        Giza      441   \n",
       "3  77302472878512  EPFE84MQVDJY  mohammed Mohsen       Cairo      379   \n",
       "4  75328260960308  N9JQZ1CNC07K       Wagdi said    Dakahlia      344   \n",
       "5  43832231151735  1M3B9IPM2JVR      Ahmed  Zaid       Asyut      127   \n",
       "6  65988415181340  GT2OMUCKF60C   Ahmed  Elsadiq       Luxor      406   \n",
       "7  48110826562482  7YZI26GCOTI2        nada saad    Qalyubia      321   \n",
       "8  61062408943271  EPBVIL4GCDG6        sara Amir       Sohag      478   \n",
       "9  85490943483127  9Y6Z6G20SN3E        nour omar       Cairo      224   \n",
       "\n",
       "   paid_on_raod  voiltaion_should_paid  sum_voiltaion_paid  is_paid_on_time  \n",
       "0         24868                   1904                5704                0  \n",
       "1         36220                   1868                3062                0  \n",
       "2         11631                   1849                9594                0  \n",
       "3         37557                   4823                9406                0  \n",
       "4         16044                   2318                2622                0  \n",
       "5          6529                   2288                5047                0  \n",
       "6         29881                   1241                4006                1  \n",
       "7         35898                   2389                8227                0  \n",
       "8         29211                   3826                6971                0  \n",
       "9          3197                   4428                6058                0  "
      ]
     },
     "execution_count": 13,
     "metadata": {},
     "output_type": "execute_result"
    }
   ],
   "source": [
    "df.head(10)"
   ]
  },
  {
   "cell_type": "code",
   "execution_count": null,
   "id": "097a7fff",
   "metadata": {},
   "outputs": [],
   "source": []
  }
 ],
 "metadata": {
  "kernelspec": {
   "display_name": "Python 3 (ipykernel)",
   "language": "python",
   "name": "python3"
  },
  "language_info": {
   "codemirror_mode": {
    "name": "ipython",
    "version": 3
   },
   "file_extension": ".py",
   "mimetype": "text/x-python",
   "name": "python",
   "nbconvert_exporter": "python",
   "pygments_lexer": "ipython3",
   "version": "3.8.10"
  }
 },
 "nbformat": 4,
 "nbformat_minor": 5
}
